{
  "nbformat": 4,
  "nbformat_minor": 0,
  "metadata": {
    "colab": {
      "name": "Booston Housing.ipynb",
      "version": "0.3.2",
      "provenance": [],
      "collapsed_sections": [
        "izfMgOpH9OeY",
        "mMQBkqLeCNmD",
        "6EO_66T4CvEk",
        "x7n1SQLQD2SG",
        "e9ThF_WxE57T"
      ]
    },
    "kernelspec": {
      "name": "python3",
      "display_name": "Python 3"
    }
  },
  "cells": [
    {
      "cell_type": "markdown",
      "metadata": {
        "id": "PppYPRpO5mV1",
        "colab_type": "text"
      },
      "source": [
        "---\n",
        "# ***Boston Housing Project***\n",
        "\n",
        "---\n",
        "\n"
      ]
    },
    {
      "cell_type": "markdown",
      "metadata": {
        "id": "qIgJ47UL5tTI",
        "colab_type": "text"
      },
      "source": [
        "## Data Exploration"
      ]
    },
    {
      "cell_type": "code",
      "metadata": {
        "id": "QopuoduS1dmK",
        "colab_type": "code",
        "colab": {
          "base_uri": "https://localhost:8080/",
          "height": 221
        },
        "outputId": "5e3d70b1-1fdb-4624-a3c0-7f330beb861c"
      },
      "source": [
        "# Import libraries necessary for this project\n",
        "import numpy as np\n",
        "import pandas as pd\n",
        "from sklearn.model_selection import ShuffleSplit\n",
        "\n",
        "# Import supplementary visualizations code visuals.py\n",
        "import visuals as vs\n",
        "\n",
        "# Pretty display for notebooks\n",
        "%matplotlib inline\n",
        "\n",
        "# Load the Boston housing dataset\n",
        "data = pd.read_csv('HousingDataSet.csv')\n",
        "prices = data['MEDV']\n",
        "features = data.drop('MEDV', axis = 1)\n",
        "# features = data.drop('4', axis = 1)\n",
        "    \n",
        "# Success\n",
        "print(\"Boston housing dataset has {} data points with {} variables each.\".format(*data.shape))\n",
        "features.head()"
      ],
      "execution_count": 57,
      "outputs": [
        {
          "output_type": "stream",
          "text": [
            "Boston housing dataset has 489 data points with 4 variables each.\n"
          ],
          "name": "stdout"
        },
        {
          "output_type": "execute_result",
          "data": {
            "text/html": [
              "<div>\n",
              "<style scoped>\n",
              "    .dataframe tbody tr th:only-of-type {\n",
              "        vertical-align: middle;\n",
              "    }\n",
              "\n",
              "    .dataframe tbody tr th {\n",
              "        vertical-align: top;\n",
              "    }\n",
              "\n",
              "    .dataframe thead th {\n",
              "        text-align: right;\n",
              "    }\n",
              "</style>\n",
              "<table border=\"1\" class=\"dataframe\">\n",
              "  <thead>\n",
              "    <tr style=\"text-align: right;\">\n",
              "      <th></th>\n",
              "      <th>RM</th>\n",
              "      <th>LSTAT</th>\n",
              "      <th>PTRATIO</th>\n",
              "    </tr>\n",
              "  </thead>\n",
              "  <tbody>\n",
              "    <tr>\n",
              "      <th>0</th>\n",
              "      <td>6.575</td>\n",
              "      <td>4.98</td>\n",
              "      <td>15.3</td>\n",
              "    </tr>\n",
              "    <tr>\n",
              "      <th>1</th>\n",
              "      <td>6.421</td>\n",
              "      <td>9.14</td>\n",
              "      <td>17.8</td>\n",
              "    </tr>\n",
              "    <tr>\n",
              "      <th>2</th>\n",
              "      <td>7.185</td>\n",
              "      <td>4.03</td>\n",
              "      <td>17.8</td>\n",
              "    </tr>\n",
              "    <tr>\n",
              "      <th>3</th>\n",
              "      <td>6.998</td>\n",
              "      <td>2.94</td>\n",
              "      <td>18.7</td>\n",
              "    </tr>\n",
              "    <tr>\n",
              "      <th>4</th>\n",
              "      <td>7.147</td>\n",
              "      <td>5.33</td>\n",
              "      <td>18.7</td>\n",
              "    </tr>\n",
              "  </tbody>\n",
              "</table>\n",
              "</div>"
            ],
            "text/plain": [
              "      RM  LSTAT  PTRATIO\n",
              "0  6.575   4.98     15.3\n",
              "1  6.421   9.14     17.8\n",
              "2  7.185   4.03     17.8\n",
              "3  6.998   2.94     18.7\n",
              "4  7.147   5.33     18.7"
            ]
          },
          "metadata": {
            "tags": []
          },
          "execution_count": 57
        }
      ]
    },
    {
      "cell_type": "markdown",
      "metadata": {
        "id": "XxlVs5c27LUb",
        "colab_type": "text"
      },
      "source": [
        "### Statistics"
      ]
    },
    {
      "cell_type": "code",
      "metadata": {
        "id": "RyO7zXwo7PSz",
        "colab_type": "code",
        "colab": {
          "base_uri": "https://localhost:8080/",
          "height": 136
        },
        "outputId": "66ef6ad2-b9ff-4922-eefa-72ee508370c8"
      },
      "source": [
        "# TODO: Minimum price of the data\n",
        "minimum_price = np.amin(prices)\n",
        "\n",
        "# TODO: Maximum price of the data\n",
        "maximum_price = np.amax(prices)\n",
        "\n",
        "# TODO: Mean price of the data\n",
        "mean_price = np.mean(prices)\n",
        "\n",
        "# TODO: Median price of the data\n",
        "median_price = np.median(prices)\n",
        "\n",
        "# # TODO: Standard deviation of prices of the data\n",
        "std_price = np.std(prices)\n",
        "\n",
        "# Show the calculated statistics\n",
        "print(\"Statistics for Boston housing dataset:\\n\")\n",
        "print(\"Minimum price: ${}\".format(minimum_price)) \n",
        "print(\"Maximum price: ${}\".format(maximum_price))\n",
        "print(\"Mean price: ${}\".format(mean_price))\n",
        "print(\"Median price ${}\".format(median_price))\n",
        "print(\"Standard deviation of prices: ${}\".format(std_price))"
      ],
      "execution_count": 58,
      "outputs": [
        {
          "output_type": "stream",
          "text": [
            "Statistics for Boston housing dataset:\n",
            "\n",
            "Minimum price: $105000\n",
            "Maximum price: $1024800\n",
            "Mean price: $454342.9447852761\n",
            "Median price $438900.0\n",
            "Standard deviation of prices: $165171.13154429477\n"
          ],
          "name": "stdout"
        }
      ]
    },
    {
      "cell_type": "markdown",
      "metadata": {
        "id": "izfMgOpH9OeY",
        "colab_type": "text"
      },
      "source": [
        "### About Features\n",
        "\n",
        "1.   RM(Average number of rooms) : The Price of Home will get high, if the value of RM is High.\n",
        "2.   LSAT(Neighbourhood - Low Class) : For Better Living, the buyer, would definetly want, his/her LSAT to be Low.\n",
        "3.   PTRATIO(Students/Teachers - Students in Primary and Secondary Schools) : This would depend on the age of the buyer, if the buyer is a middle aged person, he/she would want children from high school and secondary school to be more, but if he/she is a aged person, then they would want more teachers, and less students.\n",
        "\n",
        "\n",
        "\n"
      ]
    },
    {
      "cell_type": "markdown",
      "metadata": {
        "id": "SK9JTM4v_Sut",
        "colab_type": "text"
      },
      "source": [
        "## Developing a Model"
      ]
    },
    {
      "cell_type": "markdown",
      "metadata": {
        "id": "9Em6ZqT6_cL1",
        "colab_type": "text"
      },
      "source": [
        "### Implementation: Define a Performance Metric"
      ]
    },
    {
      "cell_type": "markdown",
      "metadata": {
        "id": "zbUAM0CXAn_D",
        "colab_type": "text"
      },
      "source": [
        "It is difficult to measure the quality of a given model without quantifying its performance over training and testing. This is typically done using some type of performance metric, whether it is through calculating some type of error, the goodness of fit, or some other useful measurement. For this project, you will be calculating the coefficient of determination, R2, to quantify your model's performance. The coefficient of determination for a model is a useful statistic in regression analysis, as it often describes how \"good\" that model is at making predictions.\n",
        "\n",
        "The values for R2 range from 0 to 1, which captures the percentage of squared correlation between the predicted and actual values of the target variable. A model with an R2 of 0 is no better than a model that always predicts the mean of the target variable, whereas a model with an R2 of 1 perfectly predicts the target variable. Any value between 0 and 1 indicates what percentage of the target variable, using this model, can be explained by the features. A model can be given a negative R2 as well, which indicates that the model is arbitrarily worse than one that always predicts the mean of the target variable."
      ]
    },
    {
      "cell_type": "markdown",
      "metadata": {
        "id": "4UDVJDkIAreU",
        "colab_type": "text"
      },
      "source": [
        "For the performance_metric function in the code cell below, you will need to implement the following:\n",
        "\n",
        "\n",
        "*   Use r2_score from sklearn.metrics to perform a performance calculation between y_true and y_predict.\n",
        "*   Assign the performance score to the score variable.\n",
        "\n"
      ]
    },
    {
      "cell_type": "code",
      "metadata": {
        "id": "awZaW69WA2Tl",
        "colab_type": "code",
        "colab": {}
      },
      "source": [
        "# TODO: Import 'r2_score'\n",
        "from sklearn.metrics import r2_score\n",
        "\n",
        "def performance_metric(y_true, y_predict):\n",
        "    \"\"\" Calculates and returns the performance score between \n",
        "        true and predicted values based on the metric chosen. \"\"\"\n",
        "    \n",
        "    # TODO: Calculate the performance score between 'y_true' and 'y_predict'\n",
        "    score = r2_score(y_true, y_predict)\n",
        "    \n",
        "    # Return the score\n",
        "    return score"
      ],
      "execution_count": 0,
      "outputs": []
    },
    {
      "cell_type": "markdown",
      "metadata": {
        "id": "9UC9n-ziBp1c",
        "colab_type": "text"
      },
      "source": [
        "### Question 2 - Goodness of Fit\n",
        "Assume that a dataset contains five data points and a model made the following predictions for the target variable:\n",
        "\n",
        "True Value\tPrediction\n",
        "\n",
        "3.0\t2.5 \n",
        "\n",
        "-0.5\t0.0\n",
        "\n",
        "2.0\t2.1\n",
        "\n",
        "7.0\t7.8\n",
        "\n",
        "4.2\t5.3\n",
        "\n",
        "Run the code cell below to use the performance_metric function and calculate this model's coefficient of determination."
      ]
    },
    {
      "cell_type": "code",
      "metadata": {
        "id": "RzrAt4HWCB63",
        "colab_type": "code",
        "colab": {
          "base_uri": "https://localhost:8080/",
          "height": 34
        },
        "outputId": "64b2a1dc-79ac-499c-9493-1d528691c013"
      },
      "source": [
        "# Calculate the performance of this model\n",
        "score = performance_metric([3, -0.5, 2, 7, 4.2], [2.5, 0.0, 2.1, 7.8, 5.3])\n",
        "print(\"Model has a coefficient of determination, R^2, of {:.3f}.\".format(score))"
      ],
      "execution_count": 60,
      "outputs": [
        {
          "output_type": "stream",
          "text": [
            "Model has a coefficient of determination, R^2, of 0.923.\n"
          ],
          "name": "stdout"
        }
      ]
    },
    {
      "cell_type": "markdown",
      "metadata": {
        "id": "mMQBkqLeCNmD",
        "colab_type": "text"
      },
      "source": [
        "#### This Model is good, because the R2 score. The model predicts arround 92% of the data correctly"
      ]
    },
    {
      "cell_type": "markdown",
      "metadata": {
        "id": "6EO_66T4CvEk",
        "colab_type": "text"
      },
      "source": [
        "### Shuffle  and Split Data"
      ]
    },
    {
      "cell_type": "markdown",
      "metadata": {
        "id": "vCCjFRUACyVy",
        "colab_type": "text"
      },
      "source": [
        "Your next implementation requires that you take the Boston housing dataset and split the data into training and testing subsets. Typically, the data is also shuffled into a random order when creating the training and testing subsets to remove any bias in the ordering of the dataset.\n",
        "\n",
        "For the code cell below, you will need to implement the following:\n",
        "\n",
        "Use train_test_split from sklearn.model_selection to shuffle and split the features and prices data into training and testing sets.\n",
        "Split the data into 80% training and 20% testing.\n",
        "Set the random_state for train_test_split to a value of your choice. This ensures results are consistent.\n",
        "Assign the train and testing splits to X_train, X_test, y_train, and y_test."
      ]
    },
    {
      "cell_type": "code",
      "metadata": {
        "id": "CM5N6-vYDHvg",
        "colab_type": "code",
        "colab": {
          "base_uri": "https://localhost:8080/",
          "height": 34
        },
        "outputId": "e5588935-5841-4011-ed0b-8c996d65eda0"
      },
      "source": [
        "# TODO: Import 'train_test_split'\n",
        "from sklearn.model_selection import train_test_split\n",
        "# TODO: Shuffle and split the data into training and testing subsets\n",
        "X_train, X_test, y_train, y_test = train_test_split(features, prices, test_size=0.2, random_state=42)\n",
        "\n",
        "# Success\n",
        "print(\"Training and testing split was successful.\")"
      ],
      "execution_count": 61,
      "outputs": [
        {
          "output_type": "stream",
          "text": [
            "Training and testing split was successful.\n"
          ],
          "name": "stdout"
        }
      ]
    },
    {
      "cell_type": "markdown",
      "metadata": {
        "id": "x7n1SQLQD2SG",
        "colab_type": "text"
      },
      "source": [
        "### Question 3 - Training and Testing"
      ]
    },
    {
      "cell_type": "markdown",
      "metadata": {
        "id": "RYFOKBgPD8HK",
        "colab_type": "text"
      },
      "source": [
        "\n",
        "\n",
        "*   What is the benefit to splitting a dataset into some ratio of training and testing subsets for a learning algorithm?\n",
        "\n",
        " Answer:  If we don't split our training and testing data, then overfitting is going to happen, that means, we are going to train our model on whole data set and we are going to test our model on the same data set, then the model is going to remember all of the data points and will just predict them, and if we give the model any new data point it would not be able to predict.\n",
        "\n"
      ]
    },
    {
      "cell_type": "markdown",
      "metadata": {
        "id": "BPe5zJubEwWs",
        "colab_type": "text"
      },
      "source": [
        "## Analyzing Model Performance"
      ]
    },
    {
      "cell_type": "markdown",
      "metadata": {
        "id": "e9ThF_WxE57T",
        "colab_type": "text"
      },
      "source": [
        "In this third section of the project, you'll take a look at several models' learning and testing performances on various subsets of training data. Additionally, you'll investigate one particular algorithm with an increasing 'max_depth' parameter on the full training set to observe how model complexity affects performance. Graphing your model's performance based on varying criteria can be beneficial in the analysis process, such as visualizing behavior that may not have been apparent from the results alone.\n",
        "\n",
        "### Learning Curves\n",
        "The following code cell produces four graphs for a decision tree model with different maximum depths. Each graph visualizes the learning curves of the model for both training and testing as the size of the training set is increased. Note that the shaded region of a learning curve denotes the uncertainty of that curve (measured as the standard deviation). The model is scored on both the training and testing sets using R2, the coefficient of determination.\n",
        "\n",
        "Run the code cell below and use these graphs to answer the following question."
      ]
    },
    {
      "cell_type": "code",
      "metadata": {
        "id": "T9q9oGYfE1WM",
        "colab_type": "code",
        "colab": {
          "base_uri": "https://localhost:8080/",
          "height": 1000
        },
        "outputId": "e53fe9a6-6724-462e-93e8-60dd250e4358"
      },
      "source": [
        "# Produce learning curves for varying training set sizes and maximum depths\n",
        "vs.ModelLearning(features, prices)"
      ],
      "execution_count": 62,
      "outputs": [
        {
          "output_type": "stream",
          "text": [
            "/usr/local/lib/python3.6/dist-packages/sklearn/metrics/regression.py:543: UndefinedMetricWarning: R^2 score is not well-defined with less than two samples.\n",
            "  warnings.warn(msg, UndefinedMetricWarning)\n",
            "/usr/local/lib/python3.6/dist-packages/sklearn/metrics/regression.py:543: UndefinedMetricWarning: R^2 score is not well-defined with less than two samples.\n",
            "  warnings.warn(msg, UndefinedMetricWarning)\n",
            "/usr/local/lib/python3.6/dist-packages/sklearn/metrics/regression.py:543: UndefinedMetricWarning: R^2 score is not well-defined with less than two samples.\n",
            "  warnings.warn(msg, UndefinedMetricWarning)\n",
            "/usr/local/lib/python3.6/dist-packages/sklearn/metrics/regression.py:543: UndefinedMetricWarning: R^2 score is not well-defined with less than two samples.\n",
            "  warnings.warn(msg, UndefinedMetricWarning)\n",
            "/usr/local/lib/python3.6/dist-packages/sklearn/metrics/regression.py:543: UndefinedMetricWarning: R^2 score is not well-defined with less than two samples.\n",
            "  warnings.warn(msg, UndefinedMetricWarning)\n",
            "/usr/local/lib/python3.6/dist-packages/sklearn/metrics/regression.py:543: UndefinedMetricWarning: R^2 score is not well-defined with less than two samples.\n",
            "  warnings.warn(msg, UndefinedMetricWarning)\n",
            "/usr/local/lib/python3.6/dist-packages/sklearn/metrics/regression.py:543: UndefinedMetricWarning: R^2 score is not well-defined with less than two samples.\n",
            "  warnings.warn(msg, UndefinedMetricWarning)\n",
            "/usr/local/lib/python3.6/dist-packages/sklearn/metrics/regression.py:543: UndefinedMetricWarning: R^2 score is not well-defined with less than two samples.\n",
            "  warnings.warn(msg, UndefinedMetricWarning)\n",
            "/usr/local/lib/python3.6/dist-packages/sklearn/metrics/regression.py:543: UndefinedMetricWarning: R^2 score is not well-defined with less than two samples.\n",
            "  warnings.warn(msg, UndefinedMetricWarning)\n",
            "/usr/local/lib/python3.6/dist-packages/sklearn/metrics/regression.py:543: UndefinedMetricWarning: R^2 score is not well-defined with less than two samples.\n",
            "  warnings.warn(msg, UndefinedMetricWarning)\n",
            "/usr/local/lib/python3.6/dist-packages/sklearn/metrics/regression.py:543: UndefinedMetricWarning: R^2 score is not well-defined with less than two samples.\n",
            "  warnings.warn(msg, UndefinedMetricWarning)\n",
            "/usr/local/lib/python3.6/dist-packages/sklearn/metrics/regression.py:543: UndefinedMetricWarning: R^2 score is not well-defined with less than two samples.\n",
            "  warnings.warn(msg, UndefinedMetricWarning)\n",
            "/usr/local/lib/python3.6/dist-packages/sklearn/metrics/regression.py:543: UndefinedMetricWarning: R^2 score is not well-defined with less than two samples.\n",
            "  warnings.warn(msg, UndefinedMetricWarning)\n",
            "/usr/local/lib/python3.6/dist-packages/sklearn/metrics/regression.py:543: UndefinedMetricWarning: R^2 score is not well-defined with less than two samples.\n",
            "  warnings.warn(msg, UndefinedMetricWarning)\n",
            "/usr/local/lib/python3.6/dist-packages/sklearn/metrics/regression.py:543: UndefinedMetricWarning: R^2 score is not well-defined with less than two samples.\n",
            "  warnings.warn(msg, UndefinedMetricWarning)\n",
            "/usr/local/lib/python3.6/dist-packages/sklearn/metrics/regression.py:543: UndefinedMetricWarning: R^2 score is not well-defined with less than two samples.\n",
            "  warnings.warn(msg, UndefinedMetricWarning)\n",
            "/usr/local/lib/python3.6/dist-packages/sklearn/metrics/regression.py:543: UndefinedMetricWarning: R^2 score is not well-defined with less than two samples.\n",
            "  warnings.warn(msg, UndefinedMetricWarning)\n",
            "/usr/local/lib/python3.6/dist-packages/sklearn/metrics/regression.py:543: UndefinedMetricWarning: R^2 score is not well-defined with less than two samples.\n",
            "  warnings.warn(msg, UndefinedMetricWarning)\n",
            "/usr/local/lib/python3.6/dist-packages/sklearn/metrics/regression.py:543: UndefinedMetricWarning: R^2 score is not well-defined with less than two samples.\n",
            "  warnings.warn(msg, UndefinedMetricWarning)\n",
            "/usr/local/lib/python3.6/dist-packages/sklearn/metrics/regression.py:543: UndefinedMetricWarning: R^2 score is not well-defined with less than two samples.\n",
            "  warnings.warn(msg, UndefinedMetricWarning)\n",
            "/usr/local/lib/python3.6/dist-packages/sklearn/metrics/regression.py:543: UndefinedMetricWarning: R^2 score is not well-defined with less than two samples.\n",
            "  warnings.warn(msg, UndefinedMetricWarning)\n",
            "/usr/local/lib/python3.6/dist-packages/sklearn/metrics/regression.py:543: UndefinedMetricWarning: R^2 score is not well-defined with less than two samples.\n",
            "  warnings.warn(msg, UndefinedMetricWarning)\n",
            "/usr/local/lib/python3.6/dist-packages/sklearn/metrics/regression.py:543: UndefinedMetricWarning: R^2 score is not well-defined with less than two samples.\n",
            "  warnings.warn(msg, UndefinedMetricWarning)\n",
            "/usr/local/lib/python3.6/dist-packages/sklearn/metrics/regression.py:543: UndefinedMetricWarning: R^2 score is not well-defined with less than two samples.\n",
            "  warnings.warn(msg, UndefinedMetricWarning)\n",
            "/usr/local/lib/python3.6/dist-packages/sklearn/metrics/regression.py:543: UndefinedMetricWarning: R^2 score is not well-defined with less than two samples.\n",
            "  warnings.warn(msg, UndefinedMetricWarning)\n",
            "/usr/local/lib/python3.6/dist-packages/sklearn/metrics/regression.py:543: UndefinedMetricWarning: R^2 score is not well-defined with less than two samples.\n",
            "  warnings.warn(msg, UndefinedMetricWarning)\n",
            "/usr/local/lib/python3.6/dist-packages/sklearn/metrics/regression.py:543: UndefinedMetricWarning: R^2 score is not well-defined with less than two samples.\n",
            "  warnings.warn(msg, UndefinedMetricWarning)\n",
            "/usr/local/lib/python3.6/dist-packages/sklearn/metrics/regression.py:543: UndefinedMetricWarning: R^2 score is not well-defined with less than two samples.\n",
            "  warnings.warn(msg, UndefinedMetricWarning)\n",
            "/usr/local/lib/python3.6/dist-packages/sklearn/metrics/regression.py:543: UndefinedMetricWarning: R^2 score is not well-defined with less than two samples.\n",
            "  warnings.warn(msg, UndefinedMetricWarning)\n",
            "/usr/local/lib/python3.6/dist-packages/sklearn/metrics/regression.py:543: UndefinedMetricWarning: R^2 score is not well-defined with less than two samples.\n",
            "  warnings.warn(msg, UndefinedMetricWarning)\n",
            "/usr/local/lib/python3.6/dist-packages/sklearn/metrics/regression.py:543: UndefinedMetricWarning: R^2 score is not well-defined with less than two samples.\n",
            "  warnings.warn(msg, UndefinedMetricWarning)\n",
            "/usr/local/lib/python3.6/dist-packages/sklearn/metrics/regression.py:543: UndefinedMetricWarning: R^2 score is not well-defined with less than two samples.\n",
            "  warnings.warn(msg, UndefinedMetricWarning)\n",
            "/usr/local/lib/python3.6/dist-packages/sklearn/metrics/regression.py:543: UndefinedMetricWarning: R^2 score is not well-defined with less than two samples.\n",
            "  warnings.warn(msg, UndefinedMetricWarning)\n",
            "/usr/local/lib/python3.6/dist-packages/sklearn/metrics/regression.py:543: UndefinedMetricWarning: R^2 score is not well-defined with less than two samples.\n",
            "  warnings.warn(msg, UndefinedMetricWarning)\n",
            "/usr/local/lib/python3.6/dist-packages/sklearn/metrics/regression.py:543: UndefinedMetricWarning: R^2 score is not well-defined with less than two samples.\n",
            "  warnings.warn(msg, UndefinedMetricWarning)\n",
            "/usr/local/lib/python3.6/dist-packages/sklearn/metrics/regression.py:543: UndefinedMetricWarning: R^2 score is not well-defined with less than two samples.\n",
            "  warnings.warn(msg, UndefinedMetricWarning)\n",
            "/usr/local/lib/python3.6/dist-packages/sklearn/metrics/regression.py:543: UndefinedMetricWarning: R^2 score is not well-defined with less than two samples.\n",
            "  warnings.warn(msg, UndefinedMetricWarning)\n",
            "/usr/local/lib/python3.6/dist-packages/sklearn/metrics/regression.py:543: UndefinedMetricWarning: R^2 score is not well-defined with less than two samples.\n",
            "  warnings.warn(msg, UndefinedMetricWarning)\n",
            "/usr/local/lib/python3.6/dist-packages/sklearn/metrics/regression.py:543: UndefinedMetricWarning: R^2 score is not well-defined with less than two samples.\n",
            "  warnings.warn(msg, UndefinedMetricWarning)\n",
            "/usr/local/lib/python3.6/dist-packages/sklearn/metrics/regression.py:543: UndefinedMetricWarning: R^2 score is not well-defined with less than two samples.\n",
            "  warnings.warn(msg, UndefinedMetricWarning)\n"
          ],
          "name": "stderr"
        },
        {
          "output_type": "display_data",
          "data": {
            "image/png": "[encoded data removed]",
            "text/plain": [
              "<Figure size 720x504 with 4 Axes>"
            ]
          },
          "metadata": {
            "tags": []
          }
        }
      ]
    },
    {
      "cell_type": "markdown",
      "metadata": {
        "id": "Y1tfi_hNbZi9",
        "colab_type": "text"
      },
      "source": [
        "I choose the graph with max-depth of 3.\n",
        "\n",
        "As more training points are added, its score decreases and seems to level off, while its variance / uncertainty of the curve also decreasing. The testing curve's score also increases as more data points are provided up until approximately 300, as it then tends to level off and run parallel with the training curve.\n",
        "\n",
        "Given that both training and validation curves have levelled off, providing more training points would not benefit the model with significant improvements but may only increase time consumption for training and testing."
      ]
    },
    {
      "cell_type": "markdown",
      "metadata": {
        "id": "Io1FjKGPc7TY",
        "colab_type": "text"
      },
      "source": [
        "### Complexity Curves\n",
        "The following code cell produces a graph for a decision tree model that has been trained and validated on the training data using different maximum depths. The graph produces two complexity curves — one for training and one for validation. Similar to the learning curves, the shaded regions of both the complexity curves denote the uncertainty in those curves, and the model is scored on both the training and validation sets using the performance_metric function."
      ]
    },
    {
      "cell_type": "code",
      "metadata": {
        "id": "Z22JwsKzbg_T",
        "colab_type": "code",
        "colab": {
          "base_uri": "https://localhost:8080/",
          "height": 350
        },
        "outputId": "f8fcfdc8-2767-467f-9708-077590a1596e"
      },
      "source": [
        "vs.ModelComplexity(X_train, y_train)"
      ],
      "execution_count": 63,
      "outputs": [
        {
          "output_type": "display_data",
          "data": {
            "image/png": "[encoded data removed]",
            "text/plain": [
              "<Figure size 504x360 with 1 Axes>"
            ]
          },
          "metadata": {
            "tags": []
          }
        }
      ]
    },
    {
      "cell_type": "markdown",
      "metadata": {
        "id": "hfBeSmqjdiQD",
        "colab_type": "text"
      },
      "source": [
        "## Evaluating Model's Performance"
      ]
    },
    {
      "cell_type": "markdown",
      "metadata": {
        "id": "ZY9CpzmPfu2f",
        "colab_type": "text"
      },
      "source": [
        "### Implementing: Fitting a Model"
      ]
    },
    {
      "cell_type": "markdown",
      "metadata": {
        "id": "X6VR_la6iKX6",
        "colab_type": "text"
      },
      "source": [
        "For the fit_model function in the code cell below, you will need to implement the following:\n",
        "\n",
        "Use DecisionTreeRegressor from sklearn.tree to create a decision tree regressor object.\n",
        "\n",
        "Assign this object to the 'regressor' variable.\n",
        "\n",
        "Create a dictionary for 'max_depth' with the values from 1 to 10, and assign this to the 'params' variable.\n",
        "\n",
        "Use make_scorer from sklearn.metrics to create a scoring function object.\n",
        "\n",
        "Pass the performance_metric function as a parameter to the object.\n",
        "\n",
        "Assign this scoring function to the 'scoring_fnc' variable.\n",
        "\n",
        "Use GridSearchCV from sklearn.grid_search to create a grid search object.\n",
        "\n",
        "Pass the variables 'regressor', 'params', 'scoring_fnc', and 'cv_sets' as parameters to the object.\n",
        "\n",
        "Assign the GridSearchCV object to the 'grid' variable."
      ]
    },
    {
      "cell_type": "code",
      "metadata": {
        "id": "Ibimxl11dme1",
        "colab_type": "code",
        "colab": {}
      },
      "source": [
        "# TODO: Import 'make_scorer', 'DecisionTreeRegressor', and 'GridSearchCV'\n",
        "from sklearn.metrics import make_scorer\n",
        "from sklearn.tree import DecisionTreeRegressor\n",
        "from sklearn.model_selection import GridSearchCV\n",
        "def fit_model(X, y):\n",
        "    \"\"\" Performs grid search over the 'max_depth' parameter for a \n",
        "        decision tree regressor trained on the input data [X, y]. \"\"\"\n",
        "    \n",
        "    # Create cross-validation sets from the training data\n",
        "    cv_sets = ShuffleSplit(n_splits = 10, test_size = 0.20, random_state = 0)\n",
        "\n",
        "    # TODO: Create a decision tree regressor object\n",
        "    regressor = DecisionTreeRegressor()\n",
        "\n",
        "    # TODO: Create a dictionary for the parameter 'max_depth' with a range from 1 to 10\n",
        "    params = {'max_depth':range(1,11)}\n",
        "\n",
        "    # TODO: Transform 'performance_metric' into a scoring function using 'make_scorer' \n",
        "    scoring_fnc = make_scorer(performance_metric)\n",
        "\n",
        "    # TODO: Create the grid search cv object --> GridSearchCV()\n",
        "    # Make sure to include the right parameters in the object:\n",
        "    # (estimator, param_grid, scoring, cv) which have values 'regressor', 'params', 'scoring_fnc', and 'cv_sets' respectively.\n",
        "    grid = GridSearchCV(estimator = regressor, param_grid = params, scoring = scoring_fnc, cv = cv_sets)\n",
        "\n",
        "    # Fit the grid search object to the data to compute the optimal model\n",
        "    grid = grid.fit(X, y)\n",
        "\n",
        "    # Return the optimal model after fitting the data\n",
        "    return grid.best_estimator_"
      ],
      "execution_count": 0,
      "outputs": []
    },
    {
      "cell_type": "markdown",
      "metadata": {
        "id": "cADkwjsxk1bP",
        "colab_type": "text"
      },
      "source": [
        "### Optimal Model"
      ]
    },
    {
      "cell_type": "code",
      "metadata": {
        "id": "-Y5OIEp7k0q4",
        "colab_type": "code",
        "colab": {
          "base_uri": "https://localhost:8080/",
          "height": 34
        },
        "outputId": "0a58a930-c670-4460-9307-eb9c486914ec"
      },
      "source": [
        "# Fit the training data to the model using grid search\n",
        "reg = fit_model(X_train, y_train)\n",
        "\n",
        "# Produce the value for 'max_depth'\n",
        "print(\"Parameter 'max_depth' is {} for the optimal model.\".format(reg.get_params()['max_depth']))"
      ],
      "execution_count": 66,
      "outputs": [
        {
          "output_type": "stream",
          "text": [
            "Parameter 'max_depth' is 4 for the optimal model.\n"
          ],
          "name": "stdout"
        }
      ]
    },
    {
      "cell_type": "markdown",
      "metadata": {
        "id": "0_OKyt-ql2SP",
        "colab_type": "text"
      },
      "source": [
        "### Predicting the Model"
      ]
    },
    {
      "cell_type": "code",
      "metadata": {
        "id": "qCvOeTRil4zG",
        "colab_type": "code",
        "colab": {
          "base_uri": "https://localhost:8080/",
          "height": 68
        },
        "outputId": "9ed58081-3ceb-475d-bdcd-ddbb8e6f7fce"
      },
      "source": [
        "# Produce a matrix for client data\n",
        "client_data = [[5, 17, 15], # Client 1\n",
        "               [4, 32, 22], # Client 2\n",
        "               [8, 3, 12]]  # Client 3\n",
        "\n",
        "# Show predictions\n",
        "for i, price in enumerate(reg.predict(client_data)):\n",
        "    print(\"Predicted selling price for Client {}'s home: ${:,.2f}\".format(i+1, price))"
      ],
      "execution_count": 67,
      "outputs": [
        {
          "output_type": "stream",
          "text": [
            "Predicted selling price for Client 1's home: $403,025.00\n",
            "Predicted selling price for Client 2's home: $237,478.72\n",
            "Predicted selling price for Client 3's home: $931,636.36\n"
          ],
          "name": "stdout"
        }
      ]
    },
    {
      "cell_type": "markdown",
      "metadata": {
        "id": "GjsF7HSCmrjg",
        "colab_type": "text"
      },
      "source": [
        "### Sensitivity\n",
        "An optimal model is not necessarily a robust model. Sometimes, a model is either too complex or too simple to sufficiently generalize to new data. Sometimes, a model could use a learning algorithm that is not appropriate for the structure of the data given. Other times, the data itself could be too noisy or contain too few samples to allow a model to adequately capture the target variable — i.e., the model is underfitted.\n",
        "\n",
        "***Run the code cell below to run the fit_model function ten times with different training and testing sets to see how the prediction for a specific client changes with respect to the data it's trained on.***"
      ]
    },
    {
      "cell_type": "code",
      "metadata": {
        "id": "yVzQDuqUmqj4",
        "colab_type": "code",
        "colab": {
          "base_uri": "https://localhost:8080/",
          "height": 221
        },
        "outputId": "28c9e183-9583-4bd4-9945-ac428ce22bec"
      },
      "source": [
        "vs.PredictTrials(features, prices, fit_model, client_data)"
      ],
      "execution_count": 68,
      "outputs": [
        {
          "output_type": "stream",
          "text": [
            "Trial 1: $391,183.33\n",
            "Trial 2: $424,935.00\n",
            "Trial 3: $415,800.00\n",
            "Trial 4: $420,622.22\n",
            "Trial 5: $413,334.78\n",
            "Trial 6: $411,931.58\n",
            "Trial 7: $399,663.16\n",
            "Trial 8: $407,232.00\n",
            "Trial 9: $351,577.61\n",
            "Trial 10: $413,700.00\n",
            "\n",
            "Range in prices: $73,357.39\n"
          ],
          "name": "stdout"
        }
      ]
    }
  ]
}